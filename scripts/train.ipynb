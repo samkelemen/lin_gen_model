{
 "cells": [
  {
   "cell_type": "code",
   "execution_count": null,
   "metadata": {},
   "outputs": [],
   "source": [
    "import numpy as np\n",
    "import matplotlib.pyplot as plt\n",
    "import inout\n"
   ]
  },
  {
   "cell_type": "code",
   "execution_count": null,
   "metadata": {},
   "outputs": [],
   "source": [
    "# Determine rank of micro profiles data\n",
    "micro_profiles = inout.get_micro_profiles_data(1).T\n",
    "micro_profiles = np.delete(micro_profiles, 51, 0)\n",
    "micro_profiles = np.delete(micro_profiles, 0, 0)\n",
    "\n",
    "np.linalg.matrix_rank(np.kron(micro_profiles, micro_profiles))\n"
   ]
  },
  {
   "cell_type": "code",
   "execution_count": null,
   "metadata": {},
   "outputs": [],
   "source": [
    "def get_data(subject_id):\n",
    "    sc = inout.get_schaefer100_sc('', subject_id)[14:, 14:]\n",
    "    micro_profiles = inout.get_micro_profiles_data(subject_id).T\n",
    "\n",
    "    # Remove the two standin regions.\n",
    "    sc = np.delete(sc, 51, 0)\n",
    "    sc = np.delete(sc, 51, 1)\n",
    "    sc = np.delete(sc, 0, 0)\n",
    "    sc = np.delete(sc, 0, 1)\n",
    "    micro_profiles = np.delete(micro_profiles, 51, 0)\n",
    "    micro_profiles = np.delete(micro_profiles, 0, 0)\n",
    "\n",
    "    return sc, micro_profiles"
   ]
  },
  {
   "cell_type": "code",
   "execution_count": null,
   "metadata": {},
   "outputs": [],
   "source": [
    "def micro_profiles_transform(micro_profiles, sc):\n",
    "    return np.kron(micro_profiles, micro_profiles), sc.flatten()"
   ]
  },
  {
   "cell_type": "code",
   "execution_count": null,
   "metadata": {},
   "outputs": [],
   "source": [
    "import lin_gen_model\n",
    "\n",
    "def train(subject_id, sc, micro_profiles):\n",
    "    subject = lin_gen_model.Subject(subject_id, micro_profiles,sc, micro_profiles_transform)\n",
    "\n",
    "    #Train the subject model.\n",
    "    alpha_grid = lin_gen_model.calc_alpha_grid(subject.transformed_sc, subject.transformed_fc)\n",
    "    alpha, rules, intercept = lin_gen_model.bic_selection(subject.transformed_sc, subject.transformed_fc, \\\n",
    "                                        lin_gen_model.lasso_regression, alpha_grid, intercept=True)\n",
    "\n",
    "    # Make sure the output directory exists. If not created it.\n",
    "    outdir = \"lasso_micro_profile_to_sc_w_intercepts/\"\n",
    "    inout.check_paths(outdir)\n",
    "\n",
    "    # Save the model and training info to seperate files.\n",
    "    np.savetxt(outdir + f\"rules{subject_id}\", rules)\n",
    "    #np.savetxt(outdir + f\"intercepts{subject_id}\", np.array((intercept)))\n",
    "    with open(f\"micro_profile_to_sc_subject_{subject_id}_training_info.txt\", mode=\"w+\", encoding=\"utf-8\") as info_file:\n",
    "        info_file.write(f\"Optimal alpha for subject {subject_id} is {alpha}.\")"
   ]
  },
  {
   "cell_type": "code",
   "execution_count": null,
   "metadata": {},
   "outputs": [],
   "source": [
    "for subject_id in range(1, 5):\n",
    "    sc, micro_profiles = get_data(subject_id)\n",
    "    \n",
    "    train(subject_id, sc, micro_profiles)"
   ]
  },
  {
   "cell_type": "code",
   "execution_count": null,
   "metadata": {},
   "outputs": [],
   "source": [
    "import pandas as pd\n",
    "import seaborn as sns\n",
    "from scipy import stats\n",
    "from sklearn.metrics import r2_score\n",
    "\n",
    "def create_r_squared_plots(sc, sc_pred):\n",
    "    r_squared = np.column_stack((sc.flatten(), sc_pred.flatten()))\n",
    "    r_squared = pd.DataFrame(r_squared, columns=('SC', 'Predicted SC'))\n",
    "\n",
    "    r_squared_score = r2_score(r_squared['SC'], r_squared['Predicted SC'])\n",
    "    print(f\"R Squared: {r_squared_score}\")\n",
    "\n",
    "    spearman_correlation = stats.spearmanr(r_squared['SC'], r_squared['Predicted SC'])\n",
    "    print(f\"Spearman Correlation: {spearman_correlation[0]}\")\n",
    "\n",
    "    sns.jointplot(data=r_squared, x=\"SC\", y=\"Predicted SC\", kind=\"reg\")\n",
    "    plt.show()\n",
    "    plt.close()"
   ]
  },
  {
   "cell_type": "code",
   "execution_count": null,
   "metadata": {},
   "outputs": [],
   "source": [
    "def determine_error(subject_id):\n",
    "    rules_path = f\"lasso_micro_profile_to_sc/rules{subject_id}\"\n",
    "    rules = np.loadtxt(rules_path)\n",
    "    rules = np.reshape(rules, (14, 14))\n",
    "\n",
    "    sc_pred = micro_profiles @ rules @ micro_profiles.T\n",
    "    rules_analytic = np.linalg.pinv(micro_profiles) @ sc_pred @ np.linalg.pinv(micro_profiles).T\n",
    "    sc_pred_analytic = micro_profiles @ rules_analytic @ micro_profiles.T\n",
    "\n",
    "    create_r_squared_plots(sc, sc_pred)\n",
    "    create_r_squared_plots(sc, sc_pred_analytic)\n",
    "    \n",
    "    \n",
    "    inout.heatmaps(rules, f\"Rules {subject_id}\", True)\n",
    "    plt.show()\n",
    "    plt.close()\n",
    "\n",
    "    sc_pred = micro_profiles @ rules @ micro_profiles.T\n",
    "\n",
    "    inout.heatmaps(sc_pred, f\"Predicted SC {subject_id}\", False)\n",
    "    plt.show()\n",
    "    plt.close()\n",
    "\n",
    "    inout.heatmaps(sc, f\"SC {subject_id}\", False)\n",
    "    plt.show()\n",
    "    plt.close()\n"
   ]
  },
  {
   "cell_type": "code",
   "execution_count": null,
   "metadata": {},
   "outputs": [],
   "source": [
    "\n",
    "print(\"Mean SC: \")\n",
    "print(np.mean(sc))\n",
    "print(\"Max SC: \")\n",
    "print(np.max(sc))"
   ]
  },
  {
   "cell_type": "code",
   "execution_count": null,
   "metadata": {},
   "outputs": [],
   "source": [
    "for subject_id in range(1, 5):\n",
    "    determine_error(subject_id)\n",
    "    print()"
   ]
  }
 ],
 "metadata": {
  "kernelspec": {
   "display_name": "lin_gen_model",
   "language": "python",
   "name": "python3"
  },
  "language_info": {
   "codemirror_mode": {
    "name": "ipython",
    "version": 3
   },
   "file_extension": ".py",
   "mimetype": "text/x-python",
   "name": "python",
   "nbconvert_exporter": "python",
   "pygments_lexer": "ipython3",
   "version": "3.12.8"
  }
 },
 "nbformat": 4,
 "nbformat_minor": 2
}
