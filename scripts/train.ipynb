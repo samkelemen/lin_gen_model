{
 "cells": [
  {
   "cell_type": "code",
   "execution_count": null,
   "metadata": {},
   "outputs": [],
   "source": [
    "# Import dependencies\n",
    "import numpy as np\n",
    "import inout\n",
    "from lin_gen_model import Subject, GroupLevelModel, \\\n",
    "    calc_alpha_grid, bic_selection, lasso_regression, \\\n",
    "    algebraic_linear_regression\n",
    "from transformations import symmetric_modification, inverse_symmetric_modification"
   ]
  },
  {
   "cell_type": "code",
   "execution_count": null,
   "metadata": {},
   "outputs": [],
   "source": [
    "rules_outpath = \"PATH HERE\"\n",
    "# Load data for the group\n",
    "subjects = []\n",
    "\n",
    "# Iterate over the subjects\n",
    "for subject_id in range(1, 51):\n",
    "    sc = inout.get_schaefer100_sc\n",
    "    fc = inout.get_schaefer100_fc\n",
    "\n",
    "    # Instantiate a subject object\n",
    "    subject = Subject(subject_id, sc, fc, symmetric_modification)\n",
    "\n",
    "    # Add the subject to the list of subjects\n",
    "    subjects.append(subject)"
   ]
  },
  {
   "cell_type": "code",
   "execution_count": null,
   "metadata": {},
   "outputs": [],
   "source": [
    "############### Train the group-level model ###################\n",
    "\n",
    "# Instantiate the group-level model\n",
    "group_model = GroupLevelModel(subjects)\n",
    "\n",
    "# Train the group model.\n",
    "DIM = 116 # Number of regions\n",
    "gl_rules = inverse_symmetric_modification(group_model.train_group(algebraic_linear_regression), dim)\n",
    "np.savetxt(f\"outpath{subject_id}\", gl_rules) # Save the rules"
   ]
  },
  {
   "cell_type": "code",
   "execution_count": null,
   "metadata": {},
   "outputs": [],
   "source": [
    "############### Train the subject-level model for a given subject ###################\n",
    "\n",
    "SUBJECT_ID = 1\n",
    "rules_outpath = \"PATH HERE\"\n",
    "log_outpath = \"PATH HERE\"",
    "\n",
    "# Load the data for the subject\n",
    "sc = inout.get_schaefer100_sc('', subject_id)\n",
    "fc = inout.get_schaefer100_fc('', subject_id)\n",
    "np.fill_diagonal(fc, 1) # Set the diagonal to 1\n",
    "\n",
    " # Create the subject object.\n",
    "subject = Subject(subject_id, sc, fc, symmetric_modification)\n",
    "\n",
    "# Calculate the alpha grid to use for training\n",
    "alpha_grid = calc_alpha_grid(subject.transformed_sc, subject.transformed_fc)\n",
    "\n",
    "# Train the model with BIC\n",
    "alpha, rules = bic_selection(subject.transformed_sc, subject.transformed_fc, \\\n",
    "                                lasso_regression, alpha_grid)\n",
    "\n",
    "# Make sure the output directory exists. If not created it.\n",
    "outdir = \"lasso_microstructure/\"\n",
    "inout.check_paths(outdir)\n",
    "\n",
    "# Save the model\n",
    "np.savetxt(outdir + rules_outpath, rules)\n",
    "#Save the training optimal alpha value\n",
    "with open(f"{outdir + log_outpath}{subject_id}\", mode=\"w+\", encoding=\"utf-8\") as info_file:\n",
    "    info_file.write(f\"Optimal alpha for subject {subject_id} is {alpha}.\")"
   ]
  }
 ],
 "metadata": {
  "kernelspec": {
   "display_name": "lin_gen_model",
   "language": "python",
   "name": "python3"
  },
  "language_info": {
   "codemirror_mode": {
    "name": "ipython",
    "version": 3
   },
   "file_extension": ".py",
   "mimetype": "text/x-python",
   "name": "python",
   "nbconvert_exporter": "python",
   "pygments_lexer": "ipython3",
   "version": "3.12.8"
  }
 },
 "nbformat": 4,
 "nbformat_minor": 2
}
